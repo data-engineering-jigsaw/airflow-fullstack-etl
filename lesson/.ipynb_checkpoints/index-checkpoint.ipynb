{
 "cells": [
  {
   "cell_type": "markdown",
   "id": "e65d74a6-fea7-4018-b9b1-ba6d886c226a",
   "metadata": {},
   "source": [
    "# Getting Started"
   ]
  },
  {
   "cell_type": "markdown",
   "id": "3d574841-19a8-4a39-a1ea-745ff6f8d5e4",
   "metadata": {},
   "source": [
    "* You can register for a new account [here](https://developers.amadeus.com/register) -- notice that."
   ]
  },
  {
   "cell_type": "markdown",
   "id": "091b79b2-bbb4-472c-bdb7-c2cbe49eef68",
   "metadata": {},
   "source": [
    "* Then after registering, login with your username and password and [create a new app](https://developers.amadeus.com/my-apps)."
   ]
  },
  {
   "cell_type": "markdown",
   "id": "ca3552bb-0351-4ed9-90b9-d80ecaa10c7f",
   "metadata": {},
   "source": [
    "From there, if you scroll down, you'll see the API keys."
   ]
  },
  {
   "cell_type": "markdown",
   "id": "1f9de924-e593-4622-bd41-78dce5fa6cc1",
   "metadata": {},
   "source": [
    "<img src=\"./amadeus-keys.png\" width=\"60%\">"
   ]
  },
  {
   "cell_type": "markdown",
   "id": "1b2c7ec6-13bc-4043-9f66-9a8d028ea4e8",
   "metadata": {},
   "source": [
    "From here, we'll need to use our `api_key` and `api_secret` to get our access token, and then we can use the access token for the api."
   ]
  },
  {
   "cell_type": "markdown",
   "id": "e33daa8f-4a24-4019-96dd-772d0f81b227",
   "metadata": {},
   "source": [
    "### File Writer"
   ]
  },
  {
   "cell_type": "markdown",
   "id": "ef31d220-5919-439b-843e-5e95a1b8d9e3",
   "metadata": {},
   "source": [
    "* read_from_json"
   ]
  },
  {
   "cell_type": "markdown",
   "id": "de636218-0a5e-4d4d-8066-b520d99b5f37",
   "metadata": {},
   "source": [
    "* Search and write"
   ]
  },
  {
   "cell_type": "markdown",
   "id": "309ca3c3-8d39-432b-969e-ef4bd50aaf59",
   "metadata": {},
   "source": [
    "Now that we can write our data to a local file, the next step is to work on uploading this to s3."
   ]
  },
  {
   "cell_type": "markdown",
   "id": "0d99b92f-0e6b-4f30-b078-2cfce425e602",
   "metadata": {},
   "source": [
    "### Move to S3"
   ]
  },
  {
   "cell_type": "markdown",
   "id": "0806c91b-03c0-4898-9b01-d8b6fb6897db",
   "metadata": {},
   "source": [
    "* `search_and_upload(origin, destination, departure_date = None)`"
   ]
  }
 ],
 "metadata": {
  "kernelspec": {
   "display_name": "Python 3 (ipykernel)",
   "language": "python",
   "name": "python3"
  },
  "language_info": {
   "codemirror_mode": {
    "name": "ipython",
    "version": 3
   },
   "file_extension": ".py",
   "mimetype": "text/x-python",
   "name": "python",
   "nbconvert_exporter": "python",
   "pygments_lexer": "ipython3",
   "version": "3.9.12"
  }
 },
 "nbformat": 4,
 "nbformat_minor": 5
}
