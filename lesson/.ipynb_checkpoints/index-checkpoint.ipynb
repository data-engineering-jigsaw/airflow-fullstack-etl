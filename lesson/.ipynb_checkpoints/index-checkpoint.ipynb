{
 "cells": [
  {
   "cell_type": "markdown",
   "id": "e65d74a6-fea7-4018-b9b1-ba6d886c226a",
   "metadata": {},
   "source": [
    "# Getting Started"
   ]
  },
  {
   "cell_type": "markdown",
   "id": "3d574841-19a8-4a39-a1ea-745ff6f8d5e4",
   "metadata": {},
   "source": [
    "* You can register for a new account [here](https://developers.amadeus.com/register) -- notice that."
   ]
  },
  {
   "cell_type": "markdown",
   "id": "091b79b2-bbb4-472c-bdb7-c2cbe49eef68",
   "metadata": {},
   "source": [
    "* Then after registering, login with your username and password and [create a new app](https://developers.amadeus.com/my-apps)."
   ]
  },
  {
   "cell_type": "markdown",
   "id": "ca3552bb-0351-4ed9-90b9-d80ecaa10c7f",
   "metadata": {},
   "source": [
    "From there, if you scroll down, you'll see the API keys."
   ]
  },
  {
   "cell_type": "markdown",
   "id": "1f9de924-e593-4622-bd41-78dce5fa6cc1",
   "metadata": {},
   "source": [
    "<img src=\"./amadeus-keys.png\" width=\"60%\">"
   ]
  },
  {
   "cell_type": "markdown",
   "id": "1b2c7ec6-13bc-4043-9f66-9a8d028ea4e8",
   "metadata": {},
   "source": [
    "From here, we'll need to use our `api_key` and `api_secret` to get our access token, and then we can use the access token for the api."
   ]
  },
  {
   "cell_type": "code",
   "execution_count": 53,
   "id": "4f3adc8d-6fdf-44ee-9b4e-45525197034c",
   "metadata": {},
   "outputs": [
    {
     "data": {
      "text/plain": [
       "'qO2yIhfDRXJT2LA87c3ZFvOHbRlB'"
      ]
     },
     "execution_count": 53,
     "metadata": {},
     "output_type": "execute_result"
    }
   ],
   "source": [
    "import requests\n",
    "import json\n",
    "from requests.auth import HTTPBasicAuth\n",
    "\n",
    "token_url = \"https://test.api.amadeus.com/v1/security/oauth2/token\"\n",
    "client_id = \"eozgvpEmxGuvakzYrM1N3FM97NvCVGd5\"\n",
    "client_secret = \"FxuCHCZLu2yoxzm2\"\n",
    "\n",
    "payload = {'grant_type': 'client_credentials','scope': 'api_agencies_read%20api_listings_read'}\n",
    "headers = {\"Content-Type\" : \"application/x-www-form-urlencoded\"}\n",
    "\n",
    "\n",
    "access_token_response = requests.post(token_url, auth=HTTPBasicAuth(client_id, client_secret), data=payload, headers=headers)\n",
    "\n",
    "access_token = access_token_response.json()['access_token']\n",
    "access_token"
   ]
  },
  {
   "cell_type": "code",
   "execution_count": 71,
   "id": "a396f876-fb7c-49d6-a67f-66b69caa97a0",
   "metadata": {},
   "outputs": [],
   "source": [
    "import requests\n",
    "import json\n",
    "from requests.structures import CaseInsensitiveDict\n",
    "from datetime import datetime\n",
    "from pprint import pprint\n",
    "\n",
    "origin = 'NYC'\n",
    "destination = 'CHI'\n",
    "departureDate = datetime.today().strftime('%Y-%m-%d')\n",
    "adults = 1\n",
    "\n",
    "url = 'https://test.api.amadeus.com/v2/shopping/flight-offers'\n",
    "params = {'originLocationCode': origin,\n",
    "          'destinationLocationCode': destination,\n",
    "          'departureDate': departureDate, 'adults': str(adults)}\n",
    "\n",
    "headers = CaseInsensitiveDict()\n",
    "headers['Authorization'] = f'Bearer {access_token}'\n",
    "response = requests.get(url, params = params, headers=headers).json()"
   ]
  },
  {
   "cell_type": "code",
   "execution_count": 112,
   "id": "1fd5bdd5-3e0f-4ea1-bc95-4eab98d2a3fb",
   "metadata": {},
   "outputs": [],
   "source": [
    "filename = f'{origin}-{destination}-{departureDate}.json'\n",
    "with open(filename, \"w\") as outfile:\n",
    "    outfile.write(json.dumps(response))"
   ]
  },
  {
   "cell_type": "markdown",
   "id": "e33daa8f-4a24-4019-96dd-772d0f81b227",
   "metadata": {},
   "source": [
    "### Save to Json"
   ]
  },
  {
   "cell_type": "markdown",
   "id": "ef31d220-5919-439b-843e-5e95a1b8d9e3",
   "metadata": {},
   "source": [
    "* read_from_json"
   ]
  },
  {
   "cell_type": "code",
   "execution_count": 116,
   "id": "79449ff3-c01c-42ac-8fff-0cc242df39ce",
   "metadata": {},
   "outputs": [],
   "source": [
    "import json\n",
    "filename = f'{origin}-{destination}-{departureDate}.json'\n",
    "with open(filename, 'r') as f:\n",
    "  flight_json = json.load(f)"
   ]
  },
  {
   "cell_type": "code",
   "execution_count": 118,
   "id": "2ddf204b-4166-4c97-9570-8ba3ac264f60",
   "metadata": {},
   "outputs": [],
   "source": [
    "# flight_json"
   ]
  },
  {
   "cell_type": "code",
   "execution_count": 119,
   "id": "67425c58-596b-41b8-8f04-a0768548b8f9",
   "metadata": {},
   "outputs": [],
   "source": [
    "flight_itinerary = flight_json['data'][0]"
   ]
  },
  {
   "cell_type": "code",
   "execution_count": 120,
   "id": "c1de478d-a7e5-41d4-8dae-fde608ecd121",
   "metadata": {},
   "outputs": [
    {
     "data": {
      "text/plain": [
       "'2023-06-15T09:49:00'"
      ]
     },
     "execution_count": 120,
     "metadata": {},
     "output_type": "execute_result"
    }
   ],
   "source": [
    "segments = flight_itinerary['itineraries'][0]['segments']\n",
    "first_segment = segments[0]\n",
    "departure_time = first_segment['departure']['at']\n",
    "\n",
    "last_segment = segments[-1]\n",
    "arrival_time = last_segment['arrival']['at']\n",
    "arrival_time"
   ]
  },
  {
   "cell_type": "code",
   "execution_count": 98,
   "id": "ad421e5e-fcdc-40bc-8b46-3e59cb829a76",
   "metadata": {},
   "outputs": [
    {
     "data": {
      "text/plain": [
       "'LGA'"
      ]
     },
     "execution_count": 98,
     "metadata": {},
     "output_type": "execute_result"
    }
   ],
   "source": [
    "departure_airport = first_segment['departure']['iataCode']\n",
    "departure_airport"
   ]
  },
  {
   "cell_type": "code",
   "execution_count": 99,
   "id": "070b746c-f19a-41fe-bd5a-323bd7a47fa5",
   "metadata": {},
   "outputs": [
    {
     "data": {
      "text/plain": [
       "'ORD'"
      ]
     },
     "execution_count": 99,
     "metadata": {},
     "output_type": "execute_result"
    }
   ],
   "source": [
    "arrival_airport = last_segment['arrival']['iataCode']\n",
    "arrival_airport"
   ]
  },
  {
   "cell_type": "code",
   "execution_count": 105,
   "id": "23744532-6f12-458c-95d9-682d3fa84950",
   "metadata": {},
   "outputs": [
    {
     "data": {
      "text/plain": [
       "157.82"
      ]
     },
     "execution_count": 105,
     "metadata": {},
     "output_type": "execute_result"
    }
   ],
   "source": [
    "float(flight_itinerary['price']['total'])"
   ]
  },
  {
   "cell_type": "code",
   "execution_count": null,
   "id": "3425d9ea-6563-4729-9da3-c1c0958a5e43",
   "metadata": {},
   "outputs": [],
   "source": [
    "# iataCode, 'price', total\n",
    "\n",
    "# 'segments': [{'departure': {'iataCode': 'LGA',\n",
    "      # 'terminal': 'A',\n",
    "      # 'at': '2023-06-14T17:59:00'}\n",
    "# 'duration': 'PT16H50M'\n"
   ]
  }
 ],
 "metadata": {
  "kernelspec": {
   "display_name": "Python 3 (ipykernel)",
   "language": "python",
   "name": "python3"
  },
  "language_info": {
   "codemirror_mode": {
    "name": "ipython",
    "version": 3
   },
   "file_extension": ".py",
   "mimetype": "text/x-python",
   "name": "python",
   "nbconvert_exporter": "python",
   "pygments_lexer": "ipython3",
   "version": "3.9.12"
  }
 },
 "nbformat": 4,
 "nbformat_minor": 5
}
